{
 "cells": [
  {
   "cell_type": "markdown",
   "metadata": {},
   "source": [
    "# Práctica 2\n",
    "### Computación\n",
    "Grupo 8093\n",
    "\n",
    "Prof. Sergio Antonio Alcalá Corona\n",
    "\n",
    "Ernesto Andreo Chimal García\n",
    "\n",
    "---"
   ]
  },
  {
   "cell_type": "markdown",
   "metadata": {},
   "source": [
    "### *cat,  head, tail*"
   ]
  },
  {
   "cell_type": "code",
   "execution_count": 3,
   "metadata": {
    "collapsed": true,
    "jupyter": {
     "outputs_hidden": true
    }
   },
   "outputs": [
    {
     "name": "stdout",
     "output_type": "stream",
     "text": [
      "mkdir: Resultado: File exists\n"
     ]
    },
    {
     "ename": "",
     "evalue": "1",
     "output_type": "error",
     "traceback": []
    }
   ],
   "source": [
    "mkdir Resultado"
   ]
  },
  {
   "cell_type": "markdown",
   "metadata": {},
   "source": [
    "Creé el directorio *Resultado*."
   ]
  },
  {
   "cell_type": "code",
   "execution_count": 5,
   "metadata": {},
   "outputs": [],
   "source": [
    "cp Computacion2020-8093/Practicas/directorio/TLALPAN/sectorH/names_2009-08-30.txt Resultado"
   ]
  },
  {
   "cell_type": "markdown",
   "metadata": {},
   "source": [
    "Copié el directorio */directorio/TLALPAN/sectorH/names_2009-08-30.txt* en el directorio *Resultado*."
   ]
  },
  {
   "cell_type": "code",
   "execution_count": 7,
   "metadata": {},
   "outputs": [],
   "source": [
    "cd Resultado"
   ]
  },
  {
   "cell_type": "markdown",
   "metadata": {},
   "source": [
    "Me trasladé al directorio *Resultado*."
   ]
  },
  {
   "cell_type": "code",
   "execution_count": null,
   "metadata": {},
   "outputs": [],
   "source": [
    "cat < names_2009-08-30.txt > names_cat.txt"
   ]
  },
  {
   "cell_type": "code",
   "execution_count": 9,
   "metadata": {
    "collapsed": true,
    "jupyter": {
     "outputs_hidden": true
    }
   },
   "outputs": [
    {
     "name": "stdout",
     "output_type": "stream",
     "text": [
      "Aguilar Natasha Alejanda\t5908405556\n",
      "\n",
      "Salomon Valeria\t5550562274\n",
      "\n",
      "Cedillo Arath Abijah\t5957438808\n",
      "\n",
      "Lazaro Heriberto\t5131681455\n",
      "\n",
      "Muñoz Maria Renee\t5289217179\n",
      "\n",
      "Saldaña Francisco\t5393306394\n",
      "\n",
      "Ramos Carmen Sofía\t5564653521\n",
      "\n",
      "Buneder Erick Ricardo\t5853411637\n",
      "\n",
      "Balandra Ana Ximena\t5203278041\n",
      "\n",
      "Molina Eduardo Alberto\t5736392724\n",
      "\n",
      "Barranco Carol Sthefany\t5664011544\n",
      "\n",
      "Santiago Lesli Paola\t5291161226\n",
      "\n",
      "Alba Anabel\t5642845849\n",
      "\n",
      "Aguilar Alexia\t5462563799\n",
      "\n",
      "Serralde Angel Sebastian\t5522588882\n",
      "\n",
      "Yines Ana Ximena\t5593340690\n",
      "\n",
      "Calette Alexia\t5032726714\n",
      "\n",
      "Balmaceda Jose De\t5214401999\n",
      "\n",
      "Cerezo Jesica Jocelyn\t5003217550\n",
      "\n",
      "Garnica Kevin\t5978399615\n",
      "\n"
     ]
    }
   ],
   "source": [
    "cat names_cat.txt"
   ]
  },
  {
   "cell_type": "markdown",
   "metadata": {},
   "source": [
    "Ejecuté el comando *cat < names_2009-08-30.txt > names_cat.txt*.\n",
    "\n",
    "El comando *cat* leyó los contenidos del archivo de texto *names_2009-08-30.txt*, y redirigió el output al archivo *names_cat.txt* (que se creó con este comando, pues no existía)."
   ]
  },
  {
   "cell_type": "code",
   "execution_count": 10,
   "metadata": {},
   "outputs": [],
   "source": [
    "cat < names_2009-08-30.txt >> names_cat.txt"
   ]
  },
  {
   "cell_type": "code",
   "execution_count": 11,
   "metadata": {
    "collapsed": true,
    "jupyter": {
     "outputs_hidden": true
    }
   },
   "outputs": [
    {
     "name": "stdout",
     "output_type": "stream",
     "text": [
      "Aguilar Natasha Alejanda\t5908405556\n",
      "\n",
      "Salomon Valeria\t5550562274\n",
      "\n",
      "Cedillo Arath Abijah\t5957438808\n",
      "\n",
      "Lazaro Heriberto\t5131681455\n",
      "\n",
      "Muñoz Maria Renee\t5289217179\n",
      "\n",
      "Saldaña Francisco\t5393306394\n",
      "\n",
      "Ramos Carmen Sofía\t5564653521\n",
      "\n",
      "Buneder Erick Ricardo\t5853411637\n",
      "\n",
      "Balandra Ana Ximena\t5203278041\n",
      "\n",
      "Molina Eduardo Alberto\t5736392724\n",
      "\n",
      "Barranco Carol Sthefany\t5664011544\n",
      "\n",
      "Santiago Lesli Paola\t5291161226\n",
      "\n",
      "Alba Anabel\t5642845849\n",
      "\n",
      "Aguilar Alexia\t5462563799\n",
      "\n",
      "Serralde Angel Sebastian\t5522588882\n",
      "\n",
      "Yines Ana Ximena\t5593340690\n",
      "\n",
      "Calette Alexia\t5032726714\n",
      "\n",
      "Balmaceda Jose De\t5214401999\n",
      "\n",
      "Cerezo Jesica Jocelyn\t5003217550\n",
      "\n",
      "Garnica Kevin\t5978399615\n",
      "\n",
      "Aguilar Natasha Alejanda\t5908405556\n",
      "\n",
      "Salomon Valeria\t5550562274\n",
      "\n",
      "Cedillo Arath Abijah\t5957438808\n",
      "\n",
      "Lazaro Heriberto\t5131681455\n",
      "\n",
      "Muñoz Maria Renee\t5289217179\n",
      "\n",
      "Saldaña Francisco\t5393306394\n",
      "\n",
      "Ramos Carmen Sofía\t5564653521\n",
      "\n",
      "Buneder Erick Ricardo\t5853411637\n",
      "\n",
      "Balandra Ana Ximena\t5203278041\n",
      "\n",
      "Molina Eduardo Alberto\t5736392724\n",
      "\n",
      "Barranco Carol Sthefany\t5664011544\n",
      "\n",
      "Santiago Lesli Paola\t5291161226\n",
      "\n",
      "Alba Anabel\t5642845849\n",
      "\n",
      "Aguilar Alexia\t5462563799\n",
      "\n",
      "Serralde Angel Sebastian\t5522588882\n",
      "\n",
      "Yines Ana Ximena\t5593340690\n",
      "\n",
      "Calette Alexia\t5032726714\n",
      "\n",
      "Balmaceda Jose De\t5214401999\n",
      "\n",
      "Cerezo Jesica Jocelyn\t5003217550\n",
      "\n",
      "Garnica Kevin\t5978399615\n",
      "\n"
     ]
    }
   ],
   "source": [
    "cat names_cat.txt"
   ]
  },
  {
   "cell_type": "markdown",
   "metadata": {},
   "source": [
    "Ejecuté el comando *cat < names_2009-08-30.txt >> names_cat.txt*.\n",
    "\n",
    "El comando *cat* leyó los contenidos del archivo de texto *names_2009-08-30.txt*, y redirigió el output al archivo *names_cat.txt*; este redireccionamiento fue no destructivo, por lo que ahora en el archivo *names_cat.txt* aparece dos veces seguidas el contenido de *names_2009-08-30.txt*."
   ]
  },
  {
   "cell_type": "code",
   "execution_count": 157,
   "metadata": {
    "collapsed": true,
    "jupyter": {
     "outputs_hidden": true
    }
   },
   "outputs": [
    {
     "name": "stdout",
     "output_type": "stream",
     "text": [
      "Aguilar Natasha Alejanda\t5908405556\n",
      "\n",
      "Salomon Valeria\t5550562274\n",
      "\n",
      "Cedillo Arath Abijah\t5957438808\n",
      "\n",
      "Lazaro Heriberto\t5131681455\n",
      "\n",
      "Muñoz Maria Renee\t5289217179\n",
      "\n",
      "Saldaña Francisco\t5393306394\n",
      "\n",
      "Ramos Carmen Sofía\t5564653521\n",
      "\n",
      "Buneder Erick Ricardo\t5853411637\n",
      "\n",
      "Balandra Ana Ximena\t5203278041\n",
      "\n",
      "Molina Eduardo Alberto\t5736392724\n",
      "\n",
      "Barranco Carol Sthefany\t5664011544\n",
      "\n",
      "Santiago Lesli Paola\t5291161226\n",
      "\n",
      "Alba Anabel\t5642845849\n",
      "\n",
      "Aguilar Alexia\t5462563799\n",
      "\n",
      "Serralde Angel Sebastian\t5522588882\n",
      "\n",
      "Yines Ana Ximena\t5593340690\n",
      "\n",
      "Calette Alexia\t5032726714\n",
      "\n",
      "Balmaceda Jose De\t5214401999\n",
      "\n",
      "Cerezo Jesica Jocelyn\t5003217550\n",
      "\n",
      "Garnica Kevin\t5978399615\n",
      "\n",
      "Aguilar Natasha Alejanda\t5908405556\n",
      "\n",
      "Salomon Valeria\t5550562274\n",
      "\n",
      "Cedillo Arath Abijah\t5957438808\n",
      "\n",
      "Lazaro Heriberto\t5131681455\n",
      "\n",
      "Muñoz Maria Renee\t5289217179\n",
      "\n",
      "Saldaña Francisco\t5393306394\n",
      "\n",
      "Ramos Carmen Sofía\t5564653521\n",
      "\n",
      "Buneder Erick Ricardo\t5853411637\n",
      "\n",
      "Balandra Ana Ximena\t5203278041\n",
      "\n",
      "Molina Eduardo Alberto\t5736392724\n",
      "\n",
      "Barranco Carol Sthefany\t5664011544\n",
      "\n",
      "Santiago Lesli Paola\t5291161226\n",
      "\n",
      "Alba Anabel\t5642845849\n",
      "\n",
      "Aguilar Alexia\t5462563799\n",
      "\n",
      "Serralde Angel Sebastian\t5522588882\n",
      "\n",
      "Yines Ana Ximena\t5593340690\n",
      "\n",
      "Calette Alexia\t5032726714\n",
      "\n",
      "Balmaceda Jose De\t5214401999\n",
      "\n",
      "Cerezo Jesica Jocelyn\t5003217550\n",
      "\n",
      "Garnica Kevin\t5978399615\n",
      "\n"
     ]
    }
   ],
   "source": [
    "cat names_cat.txt 2> err.dat"
   ]
  },
  {
   "cell_type": "code",
   "execution_count": 159,
   "metadata": {
    "collapsed": true,
    "jupyter": {
     "outputs_hidden": true
    }
   },
   "outputs": [
    {
     "ename": "",
     "evalue": "127",
     "output_type": "error",
     "traceback": []
    }
   ],
   "source": [
    "cata names_cat.txt 2> err.dat"
   ]
  },
  {
   "cell_type": "code",
   "execution_count": 160,
   "metadata": {},
   "outputs": [
    {
     "name": "stdout",
     "output_type": "stream",
     "text": [
      "bash: cata: command not found\n"
     ]
    }
   ],
   "source": [
    "cat err.dat"
   ]
  },
  {
   "cell_type": "markdown",
   "metadata": {},
   "source": [
    "La diferencia entre ambos comandos es que *cata* no existe en *PATH* (este comando no existe en mi computadora). El primer comando leyó los contenidos de *names_cat.txt* y creó el archivo *err.dat*, pero no los redirigió a *err.dat*, sino que los imprimió en pantalla y dejó vacío el archivo. El segundo comando, al no existir, dejó un pequeño texto de error en el archivo *err.dat* (el texto dice \"bash: cata: command not found\")."
   ]
  },
  {
   "cell_type": "code",
   "execution_count": 64,
   "metadata": {},
   "outputs": [
    {
     "name": "stdout",
     "output_type": "stream",
     "text": [
      "Hola, buenas tardes.\n",
      "\n",
      "\n",
      "\n"
     ]
    }
   ],
   "source": [
    "cat feliz"
   ]
  },
  {
   "cell_type": "markdown",
   "metadata": {},
   "source": [
    "Creé un archivo de texto llamado *feliz*, dentro del cual se encuentra el texto\n",
    "\"Hola, buenas tardes.\"\n",
    "\n",
    "Los espacios en blanco se deben a que di enter antes de ejecutar el segundo *Ctrl+D*."
   ]
  },
  {
   "cell_type": "code",
   "execution_count": 71,
   "metadata": {},
   "outputs": [
    {
     "name": "stdout",
     "output_type": "stream",
     "text": [
      "      40 ../Computacion2020-8093/Practicas/directorio/COYOACAN/sectorG/names_2005-09-27.dat\n"
     ]
    }
   ],
   "source": [
    "wc -l ../Computacion2020-8093/Practicas/directorio/COYOACAN/sectorG/names_2005-09-27.dat"
   ]
  },
  {
   "cell_type": "code",
   "execution_count": 73,
   "metadata": {},
   "outputs": [],
   "source": [
    "tail -40r ../Computacion2020-8093/Practicas/directorio/COYOACAN/sectorG/names_2005-09-27.dat > catinverso.dat"
   ]
  },
  {
   "cell_type": "markdown",
   "metadata": {},
   "source": [
    "Primero conté la cantidad de líneas en el archivo *names_2005-09-27.dat*, y después ejecuté el comando tail (que imprime las últimas $n$  líneas de un archivo de texto) con la opción *-40* para imprimir las 40 líneas del archivo y la opción *-r* para imprimirlas en reversa."
   ]
  },
  {
   "cell_type": "code",
   "execution_count": 139,
   "metadata": {},
   "outputs": [],
   "source": [
    "cd /Users/andreochimal/Desktop/Compu/Computacion2020-8093/Practicas/directorio/CUAUHTEMOC/sectorE"
   ]
  },
  {
   "cell_type": "code",
   "execution_count": 142,
   "metadata": {},
   "outputs": [],
   "source": [
    "cat * > /Users/andreochimal/Desktop/Compu/Resultado/todosarchivos.txt"
   ]
  },
  {
   "cell_type": "markdown",
   "metadata": {},
   "source": [
    "Me trasladé al directorio */Users/andreochimal/Desktop/Compu/Computacion2020-8093/Practicas/directorio/CUAUHTEMOC/sectorE* y ejecuté el comando *cat* con un comodín, el cual concatenó los contenidos de todos los archivos que cumplieran con el comodín (que son todos, pues el comodín no trae especificación alguna). Eso lo redirigí al archivo *todosarchivos.txt*, que recién creé en la carpeta *Resultado*."
   ]
  },
  {
   "cell_type": "code",
   "execution_count": 143,
   "metadata": {},
   "outputs": [],
   "source": [
    "cd /Users/andreochimal/Desktop/Compu/Resultado"
   ]
  },
  {
   "cell_type": "code",
   "execution_count": 144,
   "metadata": {
    "collapsed": true,
    "jupyter": {
     "outputs_hidden": true
    }
   },
   "outputs": [
    {
     "name": "stdout",
     "output_type": "stream",
     "text": [
      "Razo Pedro\t5078328708\n",
      "\n",
      "Zavala Oscar Enrique\t5349803565\n",
      "\n",
      "Arevalo Anabel\t5098283547\n",
      "\n",
      "Castillo Regina\t5585642291\n",
      "\n",
      "Muñoz Alexia\t5670317235\n",
      "\n",
      "Molina Montserrat\t5506646832\n",
      "\n",
      "Paredes Jose Manuel\t5683845245\n",
      "\n",
      "Meza Jovanna Sofia\t5197111714\n",
      "\n",
      "Hernandez Ana Karen\t5000717497\n",
      "\n",
      "Cejudo Elsy Daniela\t5571564174\n",
      "\n",
      "Sarabia Ana Ximena\t5563916832\n",
      "\n",
      "Cerezo Santiago Miguel\t5018574468\n",
      "\n",
      "Mendez Abiram\t5908264097\n",
      "\n",
      "Vidaños Jose De\t5595988687\n",
      "\n",
      "Cedillo Jesica Jocelyn\t5948863480\n",
      "\n",
      "Romero Alexis\t5584398354\n",
      "\n",
      "Sierra Heriberto\t5497822462\n",
      "\n",
      "Contreras Logan Alexander\t5021410239\n",
      "\n",
      "Munguia Luis Fernando\t5120254168\n",
      "\n",
      "Orozco María Fernanda\t5469440435\n",
      "\n",
      "Rosales Maroon Liliana\t5459481540\n",
      "\n",
      "Yines Aimee Berenice\t5594659911\n",
      "\n",
      "Marquez Kevin Kaled\t5322379413\n",
      "\n",
      "Caballero Jose De\t5866484113\n",
      "\n",
      "Solís Jesus\t5954572200\n",
      "\n",
      "Lagunas Gerardo\t5543595417\n",
      "\n",
      "Fernandez Will Cameron\t5410185674\n",
      "\n",
      "Saldaña Mariana Camila\t5767575914\n",
      "\n",
      "Mendez Emmanuel\t5263539085\n",
      "\n",
      "Corona Ana Paola\t5225467712\n",
      "\n",
      "Piña Francisco Alexander\t5028397432\n",
      "\n",
      "Silva Aimee Berenice\t5381719174\n",
      "\n",
      "Manriquez Mariana\t5096073994\n",
      "\n",
      "Castillo Eduardo Alberto\t5258793581\n",
      "\n",
      "Solís Jorge Alberto\t5168301103\n",
      "\n",
      "Hernández Emmanuel\t5687720545\n",
      "\n",
      "Monterrubio Sofia Sarahi\t5585263694\n",
      "\n",
      "Medina Kevin\t5358900287\n",
      "\n",
      "Arevalo Alexis\t5984509525\n",
      "\n",
      "Rivera Luis Fernando\t5265463695\n",
      "\n",
      "Perez Monserrat\t5856135435\n",
      "\n",
      "Ribaut Monserrat\t5828687368\n",
      "\n",
      "Ponce Sofia Sarahi\t5359934823\n",
      "\n",
      "Santiago Adan Israel\t5283830796\n",
      "\n",
      "Molina Mario Arturo\t5517047099\n",
      "\n",
      "Padilla Jesica Jocelyn\t5605970802\n",
      "\n",
      "Morales Maricruz\t5793512578\n",
      "\n",
      "Flores Francisco\t5282546488\n",
      "\n",
      "Marzano Alexis\t5186912436\n",
      "\n",
      "Alvarez Juan Yael\t5882615989\n",
      "\n",
      "Gomez Andrey\t5850508493\n",
      "\n",
      "Molina Yanick\t5788470378\n",
      "\n",
      "Saldaña Juan Manuel\t5532584707\n",
      "\n",
      "Maya Karla Paola\t5781476120\n",
      "\n",
      "Contreras Jose De\t5879502320\n",
      "\n",
      "Marzano Daniel\t5648745279\n",
      "\n",
      "Marin Alan Fernando\t5881750477\n",
      "\n",
      "Castillo Adan Israel\t5692360056\n",
      "\n",
      "Salomon Daniel\t5834001860\n",
      "\n",
      "Piña German\t5145115827\n",
      "\n",
      "Manriquez Maria Renee\t5588566386\n",
      "\n",
      "Marquez Emilio Sebastian\t5663196204\n",
      "\n",
      "Gomez Rodrigo\t5700999960\n",
      "\n",
      "Carranza Martin\t5338435781\n",
      "\n",
      "Penilla Jovanna Sofia\t5769189589\n",
      "\n",
      "Barragan Melanie Daniela\t5400263293\n",
      "\n",
      "Hernandez Jovanna Sofia\t5222727112\n",
      "\n",
      "Reyes Santiago\t5812544127\n",
      "\n",
      "Brito Ximena\t5422068406\n",
      "\n",
      "Nazario Victoria Dominic\t5782309078\n",
      "\n",
      "Gomez Kenia Georgina\t5910730506\n",
      "\n",
      "Kent Melanie Daniela\t5641508319\n",
      "\n",
      "Rivera Yanely Guadalupe\t5073672048\n",
      "\n",
      "Castro Carolina\t5262444302\n",
      "\n",
      "Alva Carmen Sofía\t5174825516\n",
      "\n",
      "Balmaceda Valeria\t5338334975\n",
      "\n",
      "Alexeev Jorge Gabriel\t5587583255\n",
      "\n",
      "Razo Laura Daniela\t5066496047\n",
      "\n",
      "Tinoco Victoria Dominic\t5217619961\n",
      "\n",
      "Suarez Ana Ximena\t5750326215\n",
      "\n",
      "Ostos Sharom Alia\t5883475310\n",
      "\n",
      "Lembo Jesus\t5657118948\n",
      "\n",
      "Suarez Angel Sebastian\t5388529381\n",
      "\n",
      "Matus Anabel\t5244718214\n",
      "\n",
      "Alvarez Mercedes\t5042133628\n",
      "\n",
      "Venegas Abiram\t5251285878\n",
      "\n",
      "Negrete Martha Mariana\t5514581250\n",
      "\n",
      "Solís Abiram\t5340028558\n",
      "\n",
      "Alexeev Lesli Paola\t5243812413\n",
      "\n",
      "Sanchez Mario Arturo\t5352381305\n",
      "\n",
      "Suarez Juan Manuel\t5276927955\n",
      "\n",
      "Calcaneo Pamela\t5705423633\n",
      "\n",
      "Perea Luis Raziel\t5820133979\n",
      "\n",
      "Aguirre Alan Fernando\t5954661179\n",
      "\n",
      "Urbina Santiago Miguel\t5407900525\n",
      "\n",
      "Jaime Abigail\t5546090214\n",
      "\n",
      "Yines Francisco\t5872095616\n",
      "\n",
      "Devars Mario Arturo\t5805465009\n",
      "\n",
      "Urbina Ximena Aresmi\t5979759676\n",
      "\n",
      "Marin Mariana Itzel\t5071830875\n",
      "\n",
      "Moreno Luis Andres\t5756230316\n",
      "\n",
      "Rivera Kenia Georgina\t5264050649\n",
      "\n",
      "Nelson Eduardo Alberto\t5584785355\n",
      "\n",
      "Azuara Frida Nathalia\t5789148358\n",
      "\n",
      "Alva Emiliano\t5652124196\n",
      "\n",
      "Barragan Aimee Berenice\t5823770156\n",
      "\n",
      "Chavez Jeniffer Abril\t5285738611\n",
      "\n",
      "Robledo Santiago\t5504698601\n",
      "\n",
      "Ribaut Alejandra\t5573390408\n",
      "\n",
      "Corona Colin Arendine\t5407204102\n",
      "\n",
      "Medina Marco Antonio\t5771322861\n",
      "\n",
      "Prieto Susana Guadalupe\t5072208558\n",
      "\n",
      "Ortiz Vania\t5144323168\n",
      "\n",
      "Jaime Jeniffer Abril\t5227700343\n",
      "\n",
      "Romero Pamela Itzel\t5919745944\n",
      "\n",
      "Garcia Carmen Sofía\t5859069222\n",
      "\n",
      "Corona Zaida Alejandra\t5976256597\n",
      "\n",
      "Chávez Maria Renee\t5584329852\n",
      "\n",
      "Cervantes Maria Guadalupe\t5901147985\n",
      "\n",
      "Villalobos Diego Alejandro\t5645796983\n",
      "\n",
      "Montes Emilio Sebastian\t5568013916\n",
      "\n",
      "Marino Pamela Itzel\t5768256476\n",
      "\n",
      "Catalan Monserrat\t5761617101\n",
      "\n",
      "Lazaro Luis Fernando\t5169747475\n",
      "\n",
      "Vazquez Andrey\t5165356202\n",
      "\n",
      "Nandayapa Melanie Daniela\t5846672016\n",
      "\n",
      "Marquez Zaida Alejandra\t5853116704\n",
      "\n",
      "Cruz Mario Arturo\t5055180979\n",
      "\n",
      "Gayou Carol Lizeth\t5551545524\n",
      "\n",
      "Reyes Anabel\t5267803523\n",
      "\n",
      "Prieto Ana Paola\t5167098252\n",
      "\n",
      "Montenegro Melissa\t5908059275\n",
      "\n",
      "Sigales Jorge Alberto\t5198484382\n",
      "\n",
      "Razo Braulio\t5229450880\n",
      "\n",
      "Herrera Susana Guadalupe\t5188814985\n",
      "\n",
      "Mariscal Oscar Eduardo\t5278177782\n",
      "\n",
      "Alexeev Rafael\t5537759643\n",
      "\n",
      "Barranco Vania\t5606923471\n",
      "\n",
      "Piccini Lesly Monserrat\t5211296744\n",
      "\n",
      "Becerril Mariana Itzel\t5937433590\n",
      "\n",
      "Nandayapa Regina\t5508429894\n",
      "\n",
      "Ruiz Jimena\t5223952961\n",
      "\n",
      "Flores Oscar Eduardo\t5415322756\n",
      "\n",
      "Nelson Anabel\t5986766381\n",
      "\n",
      "Apis Sofia Sarahi\t5292656112\n",
      "\n",
      "Prieto Sofia Sarahi\t5990741398\n",
      "\n",
      "Velazquez Lesli Paola\t5211656604\n",
      "\n",
      "Sigales Carolina\t5740844840\n",
      "\n",
      "Ocampo Jose Manuel\t5451349305\n",
      "\n",
      "Villalobos Jovanna Sofia\t5550618092\n",
      "\n",
      "Fuentes Mariana Itzel\t5647157930\n",
      "\n",
      "Lembo Will Cameron\t5342894174\n",
      "\n",
      "Villafranco Ximena Aresmi\t5799699545\n",
      "\n",
      "Manriquez Jeniffer Abril\t5134410882\n",
      "\n",
      "Hernández Braulio\t5989274183\n",
      "\n",
      "Marin Abiram\t5129880486\n",
      "\n",
      "Contreras Ximena\t5258857970\n",
      "\n",
      "Diaz Daniela Michelle\t5644401882\n",
      "\n",
      "Vidaños Francisco Alexander\t5546314348\n",
      "\n",
      "Prieto Vania\t5897365909\n",
      "\n",
      "Negrete Martha\t5433825103\n",
      "\n",
      "Silva Santiago Miguel\t5558766273\n",
      "\n",
      "Chavez Carlos Eduardo\t5965393562\n",
      "\n",
      "Segoviano Pamela\t5352372522\n",
      "\n",
      "Marin Daniel\t5277911437\n",
      "\n",
      "Ramirez Diego Alejandro\t5493907143\n",
      "\n",
      "Perea Jose Rodolfo\t5926938417\n",
      "\n",
      "Medina Naomi\t5745039027\n",
      "\n",
      "Zavala Salvador\t5637043770\n",
      "\n",
      "Marquez Mario Arturo\t5309776557\n",
      "\n",
      "Pasarell Alan\t5936661518\n",
      "\n",
      "Chavez Karla Mariell\t5652286034\n",
      "\n",
      "Chavez Oscar Enrique\t5629543392\n",
      "\n",
      "Canchola Lesly Monserrat\t5863201234\n",
      "\n",
      "Maya Jesus Emmanuel\t5135938268\n",
      "\n",
      "Devars Alejandra\t5655255776\n",
      "\n",
      "Sigales Karla Fernanda\t5419978135\n",
      "\n",
      "Rivera Mauricio\t5916420499\n",
      "\n",
      "Marin Alan Fernando\t5300130304\n",
      "\n",
      "Mendez Mercedes\t5259836235\n",
      "\n",
      "Soto Anaid Renee\t5680764988\n",
      "\n",
      "Fernandez Martin\t5717322398\n",
      "\n",
      "Balandra Ana Ximena\t5461335837\n",
      "\n",
      "Venegas Maroon Liliana\t5568795075\n",
      "\n",
      "Cardenas Karen Beatriz\t5232604608\n",
      "\n",
      "Apis Valeria\t5548184632\n",
      "\n",
      "Beltran Adan Israel\t5938067593\n",
      "\n",
      "Razo Francisco Javier\t5798398856\n",
      "\n",
      "Acosta Pedro\t5104829827\n",
      "\n",
      "Sanchez Karla Paola\t5859176084\n",
      "\n",
      "Ocampo Katia Mariana\t5592896522\n",
      "\n",
      "Aranda Alan Fernando\t5128396693\n",
      "\n",
      "Zavala Martin\t5861964492\n",
      "\n",
      "Razo Montserrat\t5480652955\n",
      "\n",
      "Ortiz Alejandra\t5512980033\n",
      "\n",
      "Medel Karla Paola\t5236662691\n",
      "\n",
      "Chavez Pamela\t5098659408\n",
      "\n",
      "Balandra Francisco\t5047391722\n",
      "\n",
      "Gayou Andrea\t5161534928\n",
      "\n",
      "Calette Jose Rodolfo\t5521266623\n",
      "\n",
      "Barba Eduardo Alberto\t5479968328\n",
      "\n",
      "Villalobos Martha Mariana\t5408091201\n",
      "\n",
      "Velazquez Carmen Sofía\t5393994005\n",
      "\n",
      "Rincon Maroon Liliana\t5770434005\n",
      "\n",
      "Ponce Ximena Aresmi\t5488994862\n",
      "\n",
      "Lopez Emmanuel\t5755430613\n",
      "\n",
      "Aguirre Gerardo Fernando\t5807037333\n",
      "\n",
      "Arias Mario\t5512129577\n",
      "\n",
      "Caballero Maricruz\t5801257346\n",
      "\n",
      "Negrete Zaida Alejandra\t5669450963\n",
      "\n",
      "Virgilio Jesica Jocelyn\t5689644415\n",
      "\n",
      "Alexeev Yanko Salvador\t5994647739\n",
      "\n",
      "Santiago Jesus Emmanuel\t5298776131\n",
      "\n",
      "Vazquez Valeria Isamara\t5496702364\n",
      "\n",
      "Pasarell Alejandro\t5374026189\n",
      "\n",
      "Frías Valeria Katelik\t5466118514\n",
      "\n",
      "Ochoa Oscar Enrique\t5448291283\n",
      "\n",
      "Ponce Jorge Gabriel\t5887823464\n",
      "\n",
      "Velazquez Frida Sofia\t5068372715\n",
      "\n",
      "Avila Natasha Alejanda\t5022699147\n",
      "\n",
      "Negrete Mariana\t5170429699\n",
      "\n",
      "Jaime Jesus Emmanuel\t5515420665\n",
      "\n",
      "Corral Salvador\t5287719650\n",
      "\n",
      "Alcantara Pedro\t5307123348\n",
      "\n",
      "Garnica Abigail\t5401181322\n",
      "\n",
      "Kent Erick Alejandro\t5709911620\n",
      "\n",
      "Apis Daniel\t5590525295\n",
      "\n",
      "Morales Maria Renee\t5811746402\n",
      "\n",
      "Cejudo Alexis\t5736092792\n",
      "\n",
      "Estrada Juan Yael\t5729884969\n",
      "\n",
      "Serrano Ariana Joselyn\t5931861655\n",
      "\n",
      "Ponce Martha\t5161172331\n",
      "\n",
      "Olivares Pamela\t5010229628\n",
      "\n",
      "Corral Ana Paola\t5058309953\n",
      "\n",
      "Serralde Yanely Guadalupe\t5673160824\n",
      "\n",
      "Icelo Ainara Michell\t5149913958\n",
      "\n",
      "Villafranco Luis Raziel\t5552221846\n",
      "\n",
      "Cardenas Areli\t5125358488\n",
      "\n",
      "Acosta Frida Nathalia\t5295195920\n",
      "\n",
      "Azuara Regina\t5239779384\n",
      "\n",
      "Martínez Alejandro\t5459559112\n",
      "\n",
      "Mendieta Karla Fernanda\t5800285165\n",
      "\n",
      "Calcaneo Juan Yael\t5240968775\n",
      "\n",
      "Olivares Katia Mariana\t5414493842\n",
      "\n",
      "Ruiz Ariana Joselyn\t5071669071\n",
      "\n",
      "Castillo Mariana Camila\t5185130112\n",
      "\n",
      "Robles Abiram\t5321007992\n",
      "\n",
      "Goitia Alejandro Salvador\t5984230823\n",
      "\n",
      "Garnica Ximena Itzel\t5653671703\n",
      "\n",
      "Sigales Will Cameron\t5796918771\n",
      "\n",
      "Romero Arath Abijah\t5360024629\n",
      "\n",
      "Jimenez Yanely Guadalupe\t5793227519\n",
      "\n",
      "Silva Jose De\t5687614851\n",
      "\n",
      "Franco Emmanuel\t5636177579\n",
      "\n",
      "Ribaut Pamela\t5495371043\n",
      "\n",
      "Lazaro Aimee Berenice\t5011869787\n",
      "\n",
      "Sánchez Eduardo Alberto\t5080675650\n",
      "\n",
      "Reyes Yanick\t5773924352\n",
      "\n",
      "Gudiño Francisco Alexander\t5640466391\n",
      "\n",
      "Rojas Renata Valentina\t5170718013\n",
      "\n",
      "Chávez Kevin\t5771685216\n",
      "\n",
      "Palma Santiago\t5236316663\n",
      "\n",
      "Flores Jesica Jocelyn\t5316603304\n",
      "\n",
      "Piccini Mariana Itzel\t5517072923\n",
      "\n",
      "Mendoza Montserrat\t5550112486\n",
      "\n",
      "Goitia Ricardo\t5642538969\n",
      "\n",
      "Terreros Abigail\t5515346127\n",
      "\n",
      "Urbina Naomi\t5177518876\n",
      "\n",
      "Corral Andrea\t5741153175\n",
      "\n",
      "Bucio Samantha\t5829716287\n",
      "\n",
      "Martinez Alan Fernando\t5819513455\n",
      "\n",
      "Balandra Mariana Camila\t5910845132\n",
      "\n",
      "Avila Mariana Camila\t5206986069\n",
      "\n",
      "Fuentes Melanie Daniela\t5524651337\n",
      "\n",
      "Mendieta Victor Manuel\t5424735838\n",
      "\n",
      "Leyvas Alan\t5192554197\n",
      "\n",
      "Ugarte Areli\t5529552013\n",
      "\n",
      "Goitia Andrea\t5997621282\n",
      "\n",
      "Maya Maria Jose\t5079865855\n",
      "\n",
      "Cervantes Jimena\t5519482795\n",
      "\n",
      "Villalobos Jose De\t5023163572\n",
      "\n",
      "Perez Jimena\t5628363983\n",
      "\n",
      "Caballero Francisco Alexander\t5736361836\n",
      "\n",
      "Robles Oscar Eduardo\t5665456860\n",
      "\n",
      "Lagunas Ximena Aresmi\t5453502072\n",
      "\n",
      "Sanchez Daniela\t5961665377\n",
      "\n",
      "Marino Victor Manuel\t5906073322\n",
      "\n",
      "Becerril Jesus Alexis\t5772672417\n",
      "\n",
      "Lopez Natasha Alejanda\t5068668500\n",
      "\n",
      "Arredondo Salvador\t5671970759\n",
      "\n",
      "Marzano Jesus\t5526635198\n",
      "\n",
      "Alcantara Frida Nathalia\t5598928586\n",
      "\n",
      "Ramirez Mariana\t5030616581\n",
      "\n",
      "Robledo Alexis\t5769853349\n",
      "\n",
      "Palmas Jose Eduardo\t5910723190\n",
      "\n",
      "Barba Mariana Itzel\t5704263590\n",
      "\n",
      "Olmedo Frida Sofia\t5937603424\n",
      "\n",
      "Martinez Katia Mariana\t5033411168\n",
      "\n",
      "Lomeli Anaid Renee\t5122039422\n",
      "\n",
      "Silva Emiliano\t5249157855\n",
      "\n",
      "Morales Vania\t5922082588\n",
      "\n",
      "Alva Ainara Michell\t5176827727\n",
      "\n",
      "Brito Oscar Enrique\t5266707974\n",
      "\n",
      "Rosas Ana Karen\t5575477119\n",
      "\n",
      "Canchola Valeria\t5302256242\n",
      "\n",
      "Salinas Mauricio\t5397822190\n",
      "\n",
      "Terreros Victoria Dominic\t5328865492\n",
      "\n",
      "Virgilio Emmanuel\t5191428696\n",
      "\n",
      "Ruiz Maria Renee\t5260683636\n",
      "\n",
      "Cardenas Montserrat\t5534793087\n",
      "\n",
      "Calcaneo Elsy Daniela\t5658445254\n",
      "\n",
      "Hernández Zahara Nahomy\t5724330622\n",
      "\n",
      "Villanueva Will Cameron\t5220162615\n",
      "\n",
      "Carrasco Maria Jose\t5239295333\n",
      "\n",
      "Carrasco Elsy Daniela\t5656082908\n",
      "\n",
      "Chávez Ximena Itzel\t5629679224\n",
      "\n",
      "Gonzalez Santiago Miguel\t5614969155\n",
      "\n",
      "Apis Mario Arturo\t5654950073\n",
      "\n",
      "Gallaga Ximena Aresmi\t5000648487\n",
      "\n",
      "Nelson Naomi\t5533243494\n",
      "\n",
      "Arias Luis Andres\t5559871328\n",
      "\n",
      "Suarez Andrea\t5988716164\n",
      "\n",
      "Perez Ainara Michell\t5205238939\n",
      "\n",
      "Solís Vania\t5770429282\n",
      "\n",
      "Ponce Lesly Monserrat\t5004873558\n",
      "\n",
      "Hernandez Ximena Itzel\t5246157672\n",
      "\n",
      "Soto Aimee Berenice\t5614454998\n",
      "\n",
      "Leyvas Maria Guadalupe\t5879183994\n",
      "\n",
      "Fernandez Daniela\t5025227464\n",
      "\n",
      "Lembo Karla Fernanda\t5978513534\n",
      "\n",
      "Cortez Martin\t5368308403\n",
      "\n",
      "Sigales Martha Mariana\t5077482500\n",
      "\n",
      "Serrano Jovanna Sofia\t5277866162\n",
      "\n",
      "Salinas Martin\t5819808027\n",
      "\n",
      "Avila Andrey\t5056391126\n",
      "\n",
      "Rojas Pamela\t5312981432\n",
      "\n",
      "Almaguer Jeniffer Abril\t5704081250\n",
      "\n",
      "Salomon Mauricio\t5066024451\n",
      "\n",
      "Ponce Will Cameron\t5127585449\n",
      "\n",
      "Sánchez Karen Beatriz\t5440880096\n",
      "\n",
      "Molina Martha Mariana\t5182233806\n",
      "\n",
      "Estrada Diego Alejandro\t5262286084\n",
      "\n",
      "Barba Melissa\t5687582919\n",
      "\n",
      "Reyes Luis Andres\t5661471638\n",
      "\n",
      "Salomon Kevin\t5859210671\n",
      "\n",
      "Lomeli Juan Yael\t5606371399\n",
      "\n",
      "Mejia Ana Ximena\t5706896861\n",
      "\n",
      "Morales Jose De\t5615226335\n",
      "\n",
      "Andrade Vania\t5655684628\n",
      "\n",
      "Maciel Herbert\t5286009672\n",
      "\n",
      "Sosa Carolina\t5082426744\n",
      "\n",
      "Calette Naomi\t5733266185\n",
      "\n",
      "Marin German\t5884175558\n",
      "\n",
      "Gutiérrez Renata Valentina\t5904386257\n",
      "\n",
      "Muñoz Zahara Nahomy\t5968649313\n",
      "\n",
      "Montenegro Francisco\t5210874680\n",
      "\n",
      "Tinoco Mario\t5155509813\n",
      "\n",
      "Herrera Martha Mariana\t5786011922\n",
      "\n",
      "Medel Areli\t5370268326\n",
      "\n",
      "Ochoa Rodrigo\t5615030798\n",
      "\n",
      "Rincon Mariana Itzel\t5190713403\n",
      "\n",
      "Avila Pamela Itzel\t5750693782\n",
      "\n",
      "Aranda Carmen Sofía\t5430641623\n",
      "\n",
      "Villanueva Valeria Katelik\t5567724852\n",
      "\n",
      "Medina Marco Antonio\t5394580349\n",
      "\n",
      "Sosa Alexis Maximiliano\t5535519688\n",
      "\n",
      "Ramirez Regina\t5598266151\n",
      "\n",
      "Marzano Regina\t5719275505\n",
      "\n",
      "Zavala Valeria Isamara\t5952490157\n",
      "\n",
      "Nazario Rafael\t5514650108\n",
      "\n",
      "Salomon Oscar Eduardo\t5251663432\n",
      "\n",
      "Azuara Maria Guadalupe\t5179225361\n",
      "\n",
      "Arrevillaga Alexis\t5886931505\n",
      "\n",
      "Ostos Maria Guadalupe\t5535254653\n",
      "\n",
      "Muñoz Martha Mariana\t5348738893\n",
      "\n",
      "Frías Francisco Javier\t5479081265\n",
      "\n",
      "Apis Maria Fernanda\t5897312632\n",
      "\n",
      "Padilla Danae Monserrat\t5184933458\n",
      "\n",
      "Juarez Mariela\t5730612180\n",
      "\n",
      "Gallaga Pedro\t5964812079\n",
      "\n",
      "Gutiérrez Zahara Nahomy\t5665483221\n",
      "\n",
      "Yines Rafael\t5175529853\n",
      "\n",
      "Arevalo Victor Manuel\t5172371425\n",
      "\n",
      "Araiza Maria Guadalupe\t5838375378\n",
      "\n",
      "Maya Ximena Itzel\t5187140592\n",
      "\n",
      "Cazares Heriberto\t5591260956\n",
      "\n",
      "Saldaña Katia Mariana\t5297695281\n",
      "\n",
      "Balandra Mabel\t5346871896\n",
      "\n",
      "Aguilar Maria Fernanda\t5620980938\n",
      "\n",
      "Cazares Ximena\t5031790603\n",
      "\n",
      "Nieto Oscar Enrique\t5529321728\n",
      "\n",
      "Ruiz Alexis\t5330479468\n",
      "\n",
      "Serrano Luis Fernando\t5429722585\n",
      "\n",
      "Avila Monserrat\t5896435866\n",
      "\n",
      "Ramos Martha\t5849299706\n",
      "\n",
      "Prieto Ariana Joselyn\t5503241630\n",
      "\n",
      "Hernández Melanie Daniela\t5640530039\n",
      "\n",
      "Benitez Leonardo\t5188101544\n",
      "\n",
      "Torres Karla Mariell\t5267975011\n",
      "\n",
      "Solís Oscar Eduardo\t5808633499\n",
      "\n"
     ]
    }
   ],
   "source": [
    "cat todosarchivos.txt"
   ]
  },
  {
   "cell_type": "markdown",
   "metadata": {},
   "source": [
    "Me trasladé a la carpeta *Resultado* y comprobé que sí se imprimieran correctamente los contenidos de *../Computacion2020-8093/Practicas/directorio/CUAUHTEMOC/sectorE* en el archivo de texto *todosarchivos.txt*."
   ]
  },
  {
   "cell_type": "code",
   "execution_count": 154,
   "metadata": {},
   "outputs": [],
   "source": [
    "cat -n todosarchivos.txt | head -23 > colacabeza; cat -n todosarchivos.txt | tail -32 >> colacabeza"
   ]
  },
  {
   "cell_type": "code",
   "execution_count": 155,
   "metadata": {
    "collapsed": true,
    "jupyter": {
     "outputs_hidden": true
    }
   },
   "outputs": [
    {
     "name": "stdout",
     "output_type": "stream",
     "text": [
      "     1\tRazo Pedro\t5078328708\n",
      "     2\t\n",
      "     3\tZavala Oscar Enrique\t5349803565\n",
      "     4\t\n",
      "     5\tArevalo Anabel\t5098283547\n",
      "     6\t\n",
      "     7\tCastillo Regina\t5585642291\n",
      "     8\t\n",
      "     9\tMuñoz Alexia\t5670317235\n",
      "    10\t\n",
      "    11\tMolina Montserrat\t5506646832\n",
      "    12\t\n",
      "    13\tParedes Jose Manuel\t5683845245\n",
      "    14\t\n",
      "    15\tMeza Jovanna Sofia\t5197111714\n",
      "    16\t\n",
      "    17\tHernandez Ana Karen\t5000717497\n",
      "    18\t\n",
      "    19\tCejudo Elsy Daniela\t5571564174\n",
      "    20\t\n",
      "    21\tSarabia Ana Ximena\t5563916832\n",
      "    22\t\n",
      "    23\tCerezo Santiago Miguel\t5018574468\n",
      "   769\tMaya Ximena Itzel\t5187140592\n",
      "   770\t\n",
      "   771\tCazares Heriberto\t5591260956\n",
      "   772\t\n",
      "   773\tSaldaña Katia Mariana\t5297695281\n",
      "   774\t\n",
      "   775\tBalandra Mabel\t5346871896\n",
      "   776\t\n",
      "   777\tAguilar Maria Fernanda\t5620980938\n",
      "   778\t\n",
      "   779\tCazares Ximena\t5031790603\n",
      "   780\t\n",
      "   781\tNieto Oscar Enrique\t5529321728\n",
      "   782\t\n",
      "   783\tRuiz Alexis\t5330479468\n",
      "   784\t\n",
      "   785\tSerrano Luis Fernando\t5429722585\n",
      "   786\t\n",
      "   787\tAvila Monserrat\t5896435866\n",
      "   788\t\n",
      "   789\tRamos Martha\t5849299706\n",
      "   790\t\n",
      "   791\tPrieto Ariana Joselyn\t5503241630\n",
      "   792\t\n",
      "   793\tHernández Melanie Daniela\t5640530039\n",
      "   794\t\n",
      "   795\tBenitez Leonardo\t5188101544\n",
      "   796\t\n",
      "   797\tTorres Karla Mariell\t5267975011\n",
      "   798\t\n",
      "   799\tSolís Oscar Eduardo\t5808633499\n",
      "   800\t\n"
     ]
    }
   ],
   "source": [
    "cat colacabeza"
   ]
  },
  {
   "cell_type": "markdown",
   "metadata": {},
   "source": [
    "En una sola celda hice lo siguiente:\n",
    "\n",
    "Ejecuté el comando *cat -n* para que se imprimieran numeradas todas las líneas de *todosarchivos.txt*, y eso lo redirigí al comando *head -23*, que imprimió solamente las primeras 23 líneas, y eso lo redirigí al archivo colacabeza (que se creó en este comando, pues no existía).\n",
    "\n",
    "Después hice algo muy similar, pero redirigí lo que imprimió el comando *cat -n* al comando *tail -32* para imprimir las últimas 32 líneas numeradas. Esto lo redirigí de forma no destructiva a *colacabeza*.\n",
    "\n",
    "Tras ello corroboré en el archivo *colacabeza* que sí haya ocurrido lo planeado."
   ]
  },
  {
   "cell_type": "markdown",
   "metadata": {},
   "source": [
    "### Permisos"
   ]
  },
  {
   "cell_type": "code",
   "execution_count": 1,
   "metadata": {},
   "outputs": [
    {
     "name": "stdout",
     "output_type": "stream",
     "text": [
      "0022\n"
     ]
    }
   ],
   "source": [
    "umask"
   ]
  },
  {
   "cell_type": "code",
   "execution_count": 4,
   "metadata": {},
   "outputs": [],
   "source": [
    "cd Resultado"
   ]
  },
  {
   "cell_type": "code",
   "execution_count": 5,
   "metadata": {
    "collapsed": true,
    "jupyter": {
     "outputs_hidden": true
    }
   },
   "outputs": [
    {
     "name": "stdout",
     "output_type": "stream",
     "text": [
      "total 80\n",
      "drwxr-xr-x@ 11 andreochimal  staff    352 Nov  4 00:15 .\n",
      "drwxr-xr-x@ 13 andreochimal  staff    416 Nov  5 15:59 ..\n",
      "drwxr-xr-x@  3 andreochimal  staff     96 Nov  3 20:11 .ipynb_checkpoints\n",
      "drwxr-xr-x@ 13 andreochimal  staff    416 Nov  4 00:15 CUAUHTEMOC\n",
      "-rw-r--r--   1 andreochimal  staff    597 Nov  3 16:55 catinverso.dat\n",
      "-rw-r--r--   1 andreochimal  staff   1239 Nov  3 21:32 colacabeza\n",
      "-rw-r--r--   1 andreochimal  staff     30 Nov  3 21:50 err.dat\n",
      "-rw-r--r--   1 andreochimal  staff     24 Nov  3 16:43 feliz\n",
      "-rw-r--r--   1 andreochimal  staff    625 Nov  3 16:28 names_2009-08-30.txt\n",
      "-rw-r--r--   1 andreochimal  staff   1250 Nov  3 16:29 names_cat.txt\n",
      "-rw-r--r--   1 andreochimal  staff  12481 Nov  3 21:24 todosarchivos.txt\n"
     ]
    }
   ],
   "source": [
    "ls -la"
   ]
  },
  {
   "cell_type": "markdown",
   "metadata": {},
   "source": [
    "De acuerdo a una pequeña investigación en internet, los últimos tres dígitos que arroja *umask* son los permisos que se \"restan\" a un arh¡chivo o directorio al crearse. De forma predeterminada, los directorios tienen permisos 777, y el *umask* indica que se les está \"restando\" 022, por lo que los permisos del usuario permanecen intactos, al grupo se le quita el permiso de escritura y a los otros también (744). De forma predeterminada, los archivos tienen permisos 666, por lo que debe ocurrirles lo mismo, solamente que nadie tiene permiso de ejecución inicialmente (644).\n",
    "\n",
    "Al final ejecuté *ls -la* para corroborar que sí ocurriera esto: todos los archivos tienen permiso 644 y los directorios tienen permiso 744.\n",
    "\n",
    "**Ejemplo de uso**: Si creo una cantidad muy grande de archivos y no quiero usar el comando *ls* para conocer sus permisos (pues esto crearía una lista enorme), basta con hacer una simople operación matemática para saber qué permisos tienen todos por default."
   ]
  },
  {
   "cell_type": "code",
   "execution_count": 163,
   "metadata": {},
   "outputs": [],
   "source": [
    "cp -R ../Computacion2020-8093/Practicas/directorio/CUAUHTEMOC ."
   ]
  },
  {
   "cell_type": "code",
   "execution_count": 187,
   "metadata": {},
   "outputs": [],
   "source": [
    "cd CUAUHTEMOC"
   ]
  },
  {
   "cell_type": "code",
   "execution_count": 188,
   "metadata": {},
   "outputs": [],
   "source": [
    "chmod -R 614 /Users/andreochimal/Desktop/Compu/Resultado/CUAUHTEMOC/*/*"
   ]
  },
  {
   "cell_type": "code",
   "execution_count": 190,
   "metadata": {
    "collapsed": true,
    "jupyter": {
     "outputs_hidden": true
    }
   },
   "outputs": [
    {
     "name": "stdout",
     "output_type": "stream",
     "text": [
      "total 0\n",
      "drwx--xr--@ 13 andreochimal  staff   416 Nov  3 22:49 .\n",
      "drwxr-xr-x@ 11 andreochimal  staff   352 Nov  3 22:49 ..\n",
      "drwx--xr--@ 22 andreochimal  staff   704 Nov  3 22:49 sectorA\n",
      "drwx--xr--@ 22 andreochimal  staff   704 Nov  3 22:49 sectorE\n",
      "drwx--xr--@ 42 andreochimal  staff  1344 Nov  3 22:49 sectorG\n",
      "drwx--xr--@ 22 andreochimal  staff   704 Nov  3 22:49 sectorJ\n",
      "drwx--xr--@ 22 andreochimal  staff   704 Nov  3 22:49 sectorM\n",
      "drwx--xr--@ 22 andreochimal  staff   704 Nov  3 22:49 sectorN\n",
      "drwx--xr--@ 22 andreochimal  staff   704 Nov  3 22:49 sectorO\n",
      "drwx--xr--@ 42 andreochimal  staff  1344 Nov  3 22:49 sectorP\n",
      "drwx--xr--@ 22 andreochimal  staff   704 Nov  3 22:49 sectorR\n",
      "drwx--xr--@ 22 andreochimal  staff   704 Nov  3 22:49 sectorU\n",
      "drwx--xr--@ 22 andreochimal  staff   704 Nov  3 22:49 sectorV\n",
      "\n",
      "./sectorA:\n",
      "total 160\n",
      "drwx--xr--@ 22 andreochimal  staff  704 Nov  3 22:49 .\n",
      "drwx--xr--@ 13 andreochimal  staff  416 Nov  3 22:49 ..\n",
      "-rw---xr--   1 andreochimal  staff  618 Nov  3 22:49 names_2000-07-13.txt\n",
      "-rw---xr--   1 andreochimal  staff  627 Nov  3 22:49 names_2001-04-24.txt\n",
      "-rw---xr--   1 andreochimal  staff  634 Nov  3 22:49 names_2002-12-26.dat\n",
      "-rw---xr--   1 andreochimal  staff  583 Nov  3 22:49 names_2004-01-19.dat\n",
      "-rw---xr--   1 andreochimal  staff  671 Nov  3 22:49 names_2006-03-04.dat\n",
      "-rw---xr--   1 andreochimal  staff  617 Nov  3 22:49 names_2006-06-28.dat\n",
      "-rw---xr--   1 andreochimal  staff  589 Nov  3 22:49 names_2006-07-15.txt\n",
      "-rw---xr--   1 andreochimal  staff  613 Nov  3 22:49 names_2006-08-22.txt\n",
      "-rw---xr--   1 andreochimal  staff  647 Nov  3 22:49 names_2007-07-01.txt\n",
      "-rw---xr--   1 andreochimal  staff  623 Nov  3 22:49 names_2008-01-24.txt\n",
      "-rw---xr--   1 andreochimal  staff  627 Nov  3 22:49 names_2008-02-13.txt\n",
      "-rw---xr--   1 andreochimal  staff  637 Nov  3 22:49 names_2008-12-25.dat\n",
      "-rw---xr--   1 andreochimal  staff  604 Nov  3 22:49 names_2011-02-18.dat\n",
      "-rw---xr--   1 andreochimal  staff  607 Nov  3 22:49 names_2015-07-16.txt\n",
      "-rw---xr--   1 andreochimal  staff  612 Nov  3 22:49 names_2015-08-05.txt\n",
      "-rw---xr--   1 andreochimal  staff  638 Nov  3 22:49 names_2018-02-09.txt\n",
      "-rw---xr--   1 andreochimal  staff  606 Nov  3 22:49 names_2018-06-14.dat\n",
      "-rw---xr--   1 andreochimal  staff  618 Nov  3 22:49 names_2018-07-14.txt\n",
      "-rw---xr--   1 andreochimal  staff  622 Nov  3 22:49 names_2019-02-02.txt\n",
      "-rw---xr--   1 andreochimal  staff  636 Nov  3 22:49 names_2019-08-03.txt\n",
      "\n",
      "./sectorE:\n",
      "total 160\n",
      "drwx--xr--@ 22 andreochimal  staff  704 Nov  3 22:49 .\n",
      "drwx--xr--@ 13 andreochimal  staff  416 Nov  3 22:49 ..\n",
      "-rw---xr--   1 andreochimal  staff  612 Nov  3 22:49 names_2001-01-14.dat\n",
      "-rw---xr--   1 andreochimal  staff  636 Nov  3 22:49 names_2001-07-03.txt\n",
      "-rw---xr--   1 andreochimal  staff  590 Nov  3 22:49 names_2002-04-21.dat\n",
      "-rw---xr--   1 andreochimal  staff  643 Nov  3 22:49 names_2003-04-06.txt\n",
      "-rw---xr--   1 andreochimal  staff  605 Nov  3 22:49 names_2005-04-09.txt\n",
      "-rw---xr--   1 andreochimal  staff  657 Nov  3 22:49 names_2005-11-20.dat\n",
      "-rw---xr--   1 andreochimal  staff  634 Nov  3 22:49 names_2006-07-18.txt\n",
      "-rw---xr--   1 andreochimal  staff  630 Nov  3 22:49 names_2009-01-19.txt\n",
      "-rw---xr--   1 andreochimal  staff  615 Nov  3 22:49 names_2010-06-13.dat\n",
      "-rw---xr--   1 andreochimal  staff  601 Nov  3 22:49 names_2012-02-07.txt\n",
      "-rw---xr--   1 andreochimal  staff  671 Nov  3 22:49 names_2012-05-12.dat\n",
      "-rw---xr--   1 andreochimal  staff  601 Nov  3 22:49 names_2012-10-13.dat\n",
      "-rw---xr--   1 andreochimal  staff  652 Nov  3 22:49 names_2013-12-27.dat\n",
      "-rw---xr--   1 andreochimal  staff  593 Nov  3 22:49 names_2014-01-09.txt\n",
      "-rw---xr--   1 andreochimal  staff  632 Nov  3 22:49 names_2016-06-13.txt\n",
      "-rw---xr--   1 andreochimal  staff  637 Nov  3 22:49 names_2017-07-23.txt\n",
      "-rw---xr--   1 andreochimal  staff  616 Nov  3 22:49 names_2018-06-18.txt\n",
      "-rw---xr--   1 andreochimal  staff  584 Nov  3 22:49 names_2018-11-21.txt\n",
      "-rw---xr--   1 andreochimal  staff  646 Nov  3 22:49 names_2020-03-07.dat\n",
      "-rw---xr--   1 andreochimal  staff  626 Nov  3 22:49 names_2020-10-17.dat\n",
      "\n",
      "./sectorG:\n",
      "total 320\n",
      "drwx--xr--@ 42 andreochimal  staff  1344 Nov  3 22:49 .\n",
      "drwx--xr--@ 13 andreochimal  staff   416 Nov  3 22:49 ..\n",
      "-rw---xr--   1 andreochimal  staff   623 Nov  3 22:49 names_2000-04-14.txt\n",
      "-rw---xr--   1 andreochimal  staff   638 Nov  3 22:49 names_2001-03-03.dat\n",
      "-rw---xr--   1 andreochimal  staff   626 Nov  3 22:49 names_2001-10-21.txt\n",
      "-rw---xr--   1 andreochimal  staff   626 Nov  3 22:49 names_2002-01-07.txt\n",
      "-rw---xr--   1 andreochimal  staff   658 Nov  3 22:49 names_2002-06-03.txt\n",
      "-rw---xr--   1 andreochimal  staff   611 Nov  3 22:49 names_2002-07-31.txt\n",
      "-rw---xr--   1 andreochimal  staff   608 Nov  3 22:49 names_2002-12-03.txt\n",
      "-rw---xr--   1 andreochimal  staff   641 Nov  3 22:49 names_2003-06-06.txt\n",
      "-rw---xr--   1 andreochimal  staff   643 Nov  3 22:49 names_2003-09-09.dat\n",
      "-rw---xr--   1 andreochimal  staff   609 Nov  3 22:49 names_2005-02-27.txt\n",
      "-rw---xr--   1 andreochimal  staff   628 Nov  3 22:49 names_2005-06-11.txt\n",
      "-rw---xr--   1 andreochimal  staff   640 Nov  3 22:49 names_2006-08-15.txt\n",
      "-rw---xr--   1 andreochimal  staff   654 Nov  3 22:49 names_2006-10-26.txt\n",
      "-rw---xr--   1 andreochimal  staff   610 Nov  3 22:49 names_2007-09-06.dat\n",
      "-rw---xr--   1 andreochimal  staff   633 Nov  3 22:49 names_2007-12-11.txt\n",
      "-rw---xr--   1 andreochimal  staff   639 Nov  3 22:49 names_2008-06-05.txt\n",
      "-rw---xr--   1 andreochimal  staff   643 Nov  3 22:49 names_2008-08-10.dat\n",
      "-rw---xr--   1 andreochimal  staff   664 Nov  3 22:49 names_2008-12-24.dat\n",
      "-rw---xr--   1 andreochimal  staff   650 Nov  3 22:49 names_2009-03-25.dat\n",
      "-rw---xr--   1 andreochimal  staff   631 Nov  3 22:49 names_2009-08-31.txt\n",
      "-rw---xr--   1 andreochimal  staff   601 Nov  3 22:49 names_2009-10-14.dat\n",
      "-rw---xr--   1 andreochimal  staff   596 Nov  3 22:49 names_2011-05-21.dat\n",
      "-rw---xr--   1 andreochimal  staff   641 Nov  3 22:49 names_2012-06-21.dat\n",
      "-rw---xr--   1 andreochimal  staff   620 Nov  3 22:49 names_2013-11-26.dat\n",
      "-rw---xr--   1 andreochimal  staff   640 Nov  3 22:49 names_2014-02-20.txt\n",
      "-rw---xr--   1 andreochimal  staff   652 Nov  3 22:49 names_2014-09-01.txt\n",
      "-rw---xr--   1 andreochimal  staff   644 Nov  3 22:49 names_2015-08-06.txt\n",
      "-rw---xr--   1 andreochimal  staff   656 Nov  3 22:49 names_2016-06-09.txt\n",
      "-rw---xr--   1 andreochimal  staff   649 Nov  3 22:49 names_2017-01-23.dat\n",
      "-rw---xr--   1 andreochimal  staff   630 Nov  3 22:49 names_2017-04-20.dat\n",
      "-rw---xr--   1 andreochimal  staff   620 Nov  3 22:49 names_2017-07-17.txt\n",
      "-rw---xr--   1 andreochimal  staff   632 Nov  3 22:49 names_2017-11-25.txt\n",
      "-rw---xr--   1 andreochimal  staff   590 Nov  3 22:49 names_2018-04-03.txt\n",
      "-rw---xr--   1 andreochimal  staff   650 Nov  3 22:49 names_2018-04-23.dat\n",
      "-rw---xr--   1 andreochimal  staff   623 Nov  3 22:49 names_2018-04-29.txt\n",
      "-rw---xr--   1 andreochimal  staff   640 Nov  3 22:49 names_2019-09-03.dat\n",
      "-rw---xr--   1 andreochimal  staff   632 Nov  3 22:49 names_2020-05-02.txt\n",
      "-rw---xr--   1 andreochimal  staff   627 Nov  3 22:49 names_2020-06-03.dat\n",
      "-rw---xr--   1 andreochimal  staff   614 Nov  3 22:49 names_2020-08-08.dat\n",
      "-rw---xr--   1 andreochimal  staff   633 Nov  3 22:49 names_2020-10-06.dat\n",
      "\n",
      "./sectorJ:\n",
      "total 160\n",
      "drwx--xr--@ 22 andreochimal  staff  704 Nov  3 22:49 .\n",
      "drwx--xr--@ 13 andreochimal  staff  416 Nov  3 22:49 ..\n",
      "-rw---xr--   1 andreochimal  staff  629 Nov  3 22:49 names_2000-05-20.txt\n",
      "-rw---xr--   1 andreochimal  staff  635 Nov  3 22:49 names_2001-08-26.txt\n",
      "-rw---xr--   1 andreochimal  staff  600 Nov  3 22:49 names_2002-01-16.txt\n",
      "-rw---xr--   1 andreochimal  staff  653 Nov  3 22:49 names_2002-03-25.txt\n",
      "-rw---xr--   1 andreochimal  staff  660 Nov  3 22:49 names_2002-10-12.txt\n",
      "-rw---xr--   1 andreochimal  staff  634 Nov  3 22:49 names_2002-12-04.txt\n",
      "-rw---xr--   1 andreochimal  staff  622 Nov  3 22:49 names_2003-07-18.dat\n",
      "-rw---xr--   1 andreochimal  staff  583 Nov  3 22:49 names_2005-08-24.dat\n",
      "-rw---xr--   1 andreochimal  staff  607 Nov  3 22:49 names_2005-10-03.dat\n",
      "-rw---xr--   1 andreochimal  staff  633 Nov  3 22:49 names_2007-03-13.txt\n",
      "-rw---xr--   1 andreochimal  staff  637 Nov  3 22:49 names_2007-06-04.dat\n",
      "-rw---xr--   1 andreochimal  staff  639 Nov  3 22:49 names_2009-04-11.dat\n",
      "-rw---xr--   1 andreochimal  staff  643 Nov  3 22:49 names_2009-10-03.txt\n",
      "-rw---xr--   1 andreochimal  staff  634 Nov  3 22:49 names_2010-05-18.dat\n",
      "-rw---xr--   1 andreochimal  staff  624 Nov  3 22:49 names_2011-04-12.dat\n",
      "-rw---xr--   1 andreochimal  staff  610 Nov  3 22:49 names_2013-05-22.dat\n",
      "-rw---xr--   1 andreochimal  staff  628 Nov  3 22:49 names_2014-05-09.dat\n",
      "-rw---xr--   1 andreochimal  staff  643 Nov  3 22:49 names_2015-10-30.txt\n",
      "-rw---xr--   1 andreochimal  staff  608 Nov  3 22:49 names_2018-05-23.dat\n",
      "-rw---xr--   1 andreochimal  staff  627 Nov  3 22:49 names_2019-01-06.txt\n",
      "\n",
      "./sectorM:\n",
      "total 160\n",
      "drwx--xr--@ 22 andreochimal  staff  704 Nov  3 22:49 .\n",
      "drwx--xr--@ 13 andreochimal  staff  416 Nov  3 22:49 ..\n",
      "-rw---xr--   1 andreochimal  staff  611 Nov  3 22:49 names_2001-08-06.dat\n",
      "-rw---xr--   1 andreochimal  staff  608 Nov  3 22:49 names_2001-08-12.dat\n",
      "-rw---xr--   1 andreochimal  staff  600 Nov  3 22:49 names_2002-11-03.txt\n",
      "-rw---xr--   1 andreochimal  staff  628 Nov  3 22:49 names_2002-12-22.dat\n",
      "-rw---xr--   1 andreochimal  staff  651 Nov  3 22:49 names_2005-09-03.txt\n",
      "-rw---xr--   1 andreochimal  staff  655 Nov  3 22:49 names_2007-04-23.dat\n",
      "-rw---xr--   1 andreochimal  staff  639 Nov  3 22:49 names_2007-04-24.txt\n",
      "-rw---xr--   1 andreochimal  staff  639 Nov  3 22:49 names_2007-11-22.txt\n",
      "-rw---xr--   1 andreochimal  staff  654 Nov  3 22:49 names_2008-12-12.txt\n",
      "-rw---xr--   1 andreochimal  staff  630 Nov  3 22:49 names_2011-06-21.dat\n",
      "-rw---xr--   1 andreochimal  staff  642 Nov  3 22:49 names_2012-02-26.txt\n",
      "-rw---xr--   1 andreochimal  staff  624 Nov  3 22:49 names_2014-10-13.dat\n",
      "-rw---xr--   1 andreochimal  staff  624 Nov  3 22:49 names_2016-12-14.txt\n",
      "-rw---xr--   1 andreochimal  staff  631 Nov  3 22:49 names_2017-06-29.txt\n",
      "-rw---xr--   1 andreochimal  staff  618 Nov  3 22:49 names_2018-11-06.dat\n",
      "-rw---xr--   1 andreochimal  staff  660 Nov  3 22:49 names_2019-01-07.txt\n",
      "-rw---xr--   1 andreochimal  staff  615 Nov  3 22:49 names_2019-03-01.dat\n",
      "-rw---xr--   1 andreochimal  staff  637 Nov  3 22:49 names_2020-03-19.txt\n",
      "-rw---xr--   1 andreochimal  staff  663 Nov  3 22:49 names_2020-05-09.dat\n",
      "-rw---xr--   1 andreochimal  staff  642 Nov  3 22:49 names_2020-09-09.dat\n",
      "\n",
      "./sectorN:\n",
      "total 160\n",
      "drwx--xr--@ 22 andreochimal  staff  704 Nov  3 22:49 .\n",
      "drwx--xr--@ 13 andreochimal  staff  416 Nov  3 22:49 ..\n",
      "-rw---xr--   1 andreochimal  staff  645 Nov  3 22:49 names_2001-09-08.dat\n",
      "-rw---xr--   1 andreochimal  staff  624 Nov  3 22:49 names_2002-08-12.dat\n",
      "-rw---xr--   1 andreochimal  staff  630 Nov  3 22:49 names_2003-09-04.txt\n",
      "-rw---xr--   1 andreochimal  staff  648 Nov  3 22:49 names_2004-03-31.dat\n",
      "-rw---xr--   1 andreochimal  staff  661 Nov  3 22:49 names_2006-02-17.dat\n",
      "-rw---xr--   1 andreochimal  staff  632 Nov  3 22:49 names_2006-08-03.dat\n",
      "-rw---xr--   1 andreochimal  staff  625 Nov  3 22:49 names_2007-11-22.txt\n",
      "-rw---xr--   1 andreochimal  staff  634 Nov  3 22:49 names_2008-07-01.dat\n",
      "-rw---xr--   1 andreochimal  staff  594 Nov  3 22:49 names_2011-04-04.dat\n",
      "-rw---xr--   1 andreochimal  staff  658 Nov  3 22:49 names_2011-06-01.dat\n",
      "-rw---xr--   1 andreochimal  staff  624 Nov  3 22:49 names_2011-08-05.dat\n",
      "-rw---xr--   1 andreochimal  staff  626 Nov  3 22:49 names_2011-10-24.dat\n",
      "-rw---xr--   1 andreochimal  staff  622 Nov  3 22:49 names_2012-03-23.txt\n",
      "-rw---xr--   1 andreochimal  staff  656 Nov  3 22:49 names_2017-03-01.dat\n",
      "-rw---xr--   1 andreochimal  staff  602 Nov  3 22:49 names_2017-05-18.dat\n",
      "-rw---xr--   1 andreochimal  staff  639 Nov  3 22:49 names_2018-11-19.txt\n",
      "-rw---xr--   1 andreochimal  staff  631 Nov  3 22:49 names_2019-03-11.dat\n",
      "-rw---xr--   1 andreochimal  staff  689 Nov  3 22:49 names_2019-05-27.txt\n",
      "-rw---xr--   1 andreochimal  staff  642 Nov  3 22:49 names_2019-10-23.txt\n",
      "-rw---xr--   1 andreochimal  staff  641 Nov  3 22:49 names_2020-04-26.dat\n",
      "\n",
      "./sectorO:\n",
      "total 160\n",
      "drwx--xr--@ 22 andreochimal  staff  704 Nov  3 22:49 .\n",
      "drwx--xr--@ 13 andreochimal  staff  416 Nov  3 22:49 ..\n",
      "-rw---xr--   1 andreochimal  staff  652 Nov  3 22:49 names_2000-08-09.dat\n",
      "-rw---xr--   1 andreochimal  staff  617 Nov  3 22:49 names_2002-01-15.dat\n",
      "-rw---xr--   1 andreochimal  staff  618 Nov  3 22:49 names_2003-05-04.dat\n",
      "-rw---xr--   1 andreochimal  staff  615 Nov  3 22:49 names_2004-03-16.txt\n",
      "-rw---xr--   1 andreochimal  staff  635 Nov  3 22:49 names_2004-04-19.dat\n",
      "-rw---xr--   1 andreochimal  staff  629 Nov  3 22:49 names_2004-10-29.dat\n",
      "-rw---xr--   1 andreochimal  staff  633 Nov  3 22:49 names_2005-10-07.dat\n",
      "-rw---xr--   1 andreochimal  staff  657 Nov  3 22:49 names_2006-02-09.txt\n",
      "-rw---xr--   1 andreochimal  staff  626 Nov  3 22:49 names_2006-02-22.txt\n",
      "-rw---xr--   1 andreochimal  staff  628 Nov  3 22:49 names_2009-01-12.txt\n",
      "-rw---xr--   1 andreochimal  staff  627 Nov  3 22:49 names_2009-05-06.dat\n",
      "-rw---xr--   1 andreochimal  staff  619 Nov  3 22:49 names_2010-01-14.txt\n",
      "-rw---xr--   1 andreochimal  staff  628 Nov  3 22:49 names_2010-08-05.txt\n",
      "-rw---xr--   1 andreochimal  staff  609 Nov  3 22:49 names_2011-10-02.dat\n",
      "-rw---xr--   1 andreochimal  staff  661 Nov  3 22:49 names_2013-10-08.dat\n",
      "-rw---xr--   1 andreochimal  staff  630 Nov  3 22:49 names_2014-09-19.dat\n",
      "-rw---xr--   1 andreochimal  staff  629 Nov  3 22:49 names_2015-01-31.dat\n",
      "-rw---xr--   1 andreochimal  staff  638 Nov  3 22:49 names_2018-07-13.txt\n",
      "-rw---xr--   1 andreochimal  staff  631 Nov  3 22:49 names_2019-02-10.txt\n",
      "-rw---xr--   1 andreochimal  staff  616 Nov  3 22:49 names_2019-04-20.txt\n",
      "\n",
      "./sectorP:\n",
      "total 320\n",
      "drwx--xr--@ 42 andreochimal  staff  1344 Nov  3 22:49 .\n",
      "drwx--xr--@ 13 andreochimal  staff   416 Nov  3 22:49 ..\n",
      "-rw---xr--   1 andreochimal  staff   643 Nov  3 22:49 names_2000-03-28.dat\n",
      "-rw---xr--   1 andreochimal  staff   613 Nov  3 22:49 names_2000-06-06.dat\n",
      "-rw---xr--   1 andreochimal  staff   620 Nov  3 22:49 names_2000-10-02.dat\n",
      "-rw---xr--   1 andreochimal  staff   596 Nov  3 22:49 names_2000-11-24.dat\n",
      "-rw---xr--   1 andreochimal  staff   605 Nov  3 22:49 names_2000-11-27.dat\n",
      "-rw---xr--   1 andreochimal  staff   660 Nov  3 22:49 names_2001-02-27.dat\n",
      "-rw---xr--   1 andreochimal  staff   619 Nov  3 22:49 names_2001-12-09.txt\n",
      "-rw---xr--   1 andreochimal  staff   632 Nov  3 22:49 names_2002-02-05.dat\n",
      "-rw---xr--   1 andreochimal  staff   612 Nov  3 22:49 names_2002-08-11.dat\n",
      "-rw---xr--   1 andreochimal  staff   612 Nov  3 22:49 names_2004-09-20.dat\n",
      "-rw---xr--   1 andreochimal  staff   638 Nov  3 22:49 names_2006-09-19.dat\n",
      "-rw---xr--   1 andreochimal  staff   663 Nov  3 22:49 names_2007-03-03.txt\n",
      "-rw---xr--   1 andreochimal  staff   600 Nov  3 22:49 names_2007-07-30.txt\n",
      "-rw---xr--   1 andreochimal  staff   644 Nov  3 22:49 names_2007-10-30.txt\n",
      "-rw---xr--   1 andreochimal  staff   659 Nov  3 22:49 names_2007-12-08.dat\n",
      "-rw---xr--   1 andreochimal  staff   646 Nov  3 22:49 names_2008-09-27.dat\n",
      "-rw---xr--   1 andreochimal  staff   661 Nov  3 22:49 names_2008-12-05.txt\n",
      "-rw---xr--   1 andreochimal  staff   615 Nov  3 22:49 names_2009-01-06.dat\n",
      "-rw---xr--   1 andreochimal  staff   600 Nov  3 22:49 names_2009-08-13.txt\n",
      "-rw---xr--   1 andreochimal  staff   601 Nov  3 22:49 names_2010-06-22.dat\n",
      "-rw---xr--   1 andreochimal  staff   662 Nov  3 22:49 names_2010-10-12.dat\n",
      "-rw---xr--   1 andreochimal  staff   625 Nov  3 22:49 names_2011-03-27.dat\n",
      "-rw---xr--   1 andreochimal  staff   646 Nov  3 22:49 names_2011-04-05.dat\n",
      "-rw---xr--   1 andreochimal  staff   644 Nov  3 22:49 names_2011-06-07.dat\n",
      "-rw---xr--   1 andreochimal  staff   621 Nov  3 22:49 names_2011-09-21.txt\n",
      "-rw---xr--   1 andreochimal  staff   614 Nov  3 22:49 names_2012-01-11.txt\n",
      "-rw---xr--   1 andreochimal  staff   637 Nov  3 22:49 names_2012-01-23.dat\n",
      "-rw---xr--   1 andreochimal  staff   632 Nov  3 22:49 names_2012-07-14.dat\n",
      "-rw---xr--   1 andreochimal  staff   609 Nov  3 22:49 names_2012-08-06.dat\n",
      "-rw---xr--   1 andreochimal  staff   610 Nov  3 22:49 names_2012-08-15.txt\n",
      "-rw---xr--   1 andreochimal  staff   646 Nov  3 22:49 names_2012-11-28.txt\n",
      "-rw---xr--   1 andreochimal  staff   633 Nov  3 22:49 names_2016-01-31.txt\n",
      "-rw---xr--   1 andreochimal  staff   648 Nov  3 22:49 names_2016-02-22.txt\n",
      "-rw---xr--   1 andreochimal  staff   615 Nov  3 22:49 names_2016-03-18.txt\n",
      "-rw---xr--   1 andreochimal  staff   663 Nov  3 22:49 names_2016-09-02.dat\n",
      "-rw---xr--   1 andreochimal  staff   623 Nov  3 22:49 names_2017-05-17.dat\n",
      "-rw---xr--   1 andreochimal  staff   614 Nov  3 22:49 names_2017-08-19.dat\n",
      "-rw---xr--   1 andreochimal  staff   621 Nov  3 22:49 names_2018-05-09.txt\n",
      "-rw---xr--   1 andreochimal  staff   638 Nov  3 22:49 names_2018-10-10.dat\n",
      "-rw---xr--   1 andreochimal  staff   650 Nov  3 22:49 names_2020-02-28.txt\n",
      "\n",
      "./sectorR:\n",
      "total 160\n",
      "drwx--xr--@ 22 andreochimal  staff  704 Nov  3 22:49 .\n",
      "drwx--xr--@ 13 andreochimal  staff  416 Nov  3 22:49 ..\n",
      "-rw---xr--   1 andreochimal  staff  627 Nov  3 22:49 names_2002-05-28.dat\n",
      "-rw---xr--   1 andreochimal  staff  605 Nov  3 22:49 names_2002-09-16.dat\n",
      "-rw---xr--   1 andreochimal  staff  653 Nov  3 22:49 names_2002-12-09.txt\n",
      "-rw---xr--   1 andreochimal  staff  618 Nov  3 22:49 names_2006-09-06.dat\n",
      "-rw---xr--   1 andreochimal  staff  594 Nov  3 22:49 names_2007-04-21.txt\n",
      "-rw---xr--   1 andreochimal  staff  644 Nov  3 22:49 names_2007-06-07.txt\n",
      "-rw---xr--   1 andreochimal  staff  651 Nov  3 22:49 names_2007-07-06.txt\n",
      "-rw---xr--   1 andreochimal  staff  626 Nov  3 22:49 names_2008-04-12.dat\n",
      "-rw---xr--   1 andreochimal  staff  593 Nov  3 22:49 names_2008-08-16.txt\n",
      "-rw---xr--   1 andreochimal  staff  637 Nov  3 22:49 names_2011-06-01.txt\n",
      "-rw---xr--   1 andreochimal  staff  633 Nov  3 22:49 names_2012-07-12.txt\n",
      "-rw---xr--   1 andreochimal  staff  624 Nov  3 22:49 names_2013-06-28.dat\n",
      "-rw---xr--   1 andreochimal  staff  619 Nov  3 22:49 names_2015-07-25.dat\n",
      "-rw---xr--   1 andreochimal  staff  622 Nov  3 22:49 names_2016-09-21.dat\n",
      "-rw---xr--   1 andreochimal  staff  625 Nov  3 22:49 names_2017-02-03.dat\n",
      "-rw---xr--   1 andreochimal  staff  639 Nov  3 22:49 names_2017-09-07.txt\n",
      "-rw---xr--   1 andreochimal  staff  651 Nov  3 22:49 names_2017-12-01.dat\n",
      "-rw---xr--   1 andreochimal  staff  621 Nov  3 22:49 names_2019-01-03.txt\n",
      "-rw---xr--   1 andreochimal  staff  646 Nov  3 22:49 names_2019-02-14.dat\n",
      "-rw---xr--   1 andreochimal  staff  601 Nov  3 22:49 names_2020-07-15.dat\n",
      "\n",
      "./sectorU:\n",
      "total 160\n",
      "drwx--xr--@ 22 andreochimal  staff  704 Nov  3 22:49 .\n",
      "drwx--xr--@ 13 andreochimal  staff  416 Nov  3 22:49 ..\n",
      "-rw---xr--   1 andreochimal  staff  625 Nov  3 22:49 names_2000-11-18.txt\n",
      "-rw---xr--   1 andreochimal  staff  653 Nov  3 22:49 names_2001-01-20.txt\n",
      "-rw---xr--   1 andreochimal  staff  652 Nov  3 22:49 names_2001-12-31.dat\n",
      "-rw---xr--   1 andreochimal  staff  629 Nov  3 22:49 names_2003-06-13.txt\n",
      "-rw---xr--   1 andreochimal  staff  647 Nov  3 22:49 names_2004-12-31.dat\n",
      "-rw---xr--   1 andreochimal  staff  624 Nov  3 22:49 names_2005-05-27.txt\n",
      "-rw---xr--   1 andreochimal  staff  641 Nov  3 22:49 names_2007-01-14.dat\n",
      "-rw---xr--   1 andreochimal  staff  650 Nov  3 22:49 names_2007-11-18.dat\n",
      "-rw---xr--   1 andreochimal  staff  631 Nov  3 22:49 names_2008-05-19.txt\n",
      "-rw---xr--   1 andreochimal  staff  642 Nov  3 22:49 names_2008-12-28.txt\n",
      "-rw---xr--   1 andreochimal  staff  649 Nov  3 22:49 names_2010-04-24.dat\n",
      "-rw---xr--   1 andreochimal  staff  631 Nov  3 22:49 names_2011-10-30.dat\n",
      "-rw---xr--   1 andreochimal  staff  621 Nov  3 22:49 names_2013-01-28.dat\n",
      "-rw---xr--   1 andreochimal  staff  640 Nov  3 22:49 names_2013-06-15.txt\n",
      "-rw---xr--   1 andreochimal  staff  621 Nov  3 22:49 names_2016-04-17.txt\n",
      "-rw---xr--   1 andreochimal  staff  632 Nov  3 22:49 names_2016-06-23.txt\n",
      "-rw---xr--   1 andreochimal  staff  617 Nov  3 22:49 names_2016-06-28.txt\n",
      "-rw---xr--   1 andreochimal  staff  650 Nov  3 22:49 names_2018-09-05.txt\n",
      "-rw---xr--   1 andreochimal  staff  621 Nov  3 22:49 names_2018-12-03.txt\n",
      "-rw---xr--   1 andreochimal  staff  658 Nov  3 22:49 names_2019-01-31.txt\n",
      "\n",
      "./sectorV:\n",
      "total 160\n",
      "drwx--xr--@ 22 andreochimal  staff  704 Nov  3 22:49 .\n",
      "drwx--xr--@ 13 andreochimal  staff  416 Nov  3 22:49 ..\n",
      "-rw---xr--   1 andreochimal  staff  600 Nov  3 22:49 names_2000-08-23.dat\n",
      "-rw---xr--   1 andreochimal  staff  637 Nov  3 22:49 names_2003-03-04.dat\n",
      "-rw---xr--   1 andreochimal  staff  633 Nov  3 22:49 names_2004-12-10.txt\n",
      "-rw---xr--   1 andreochimal  staff  599 Nov  3 22:49 names_2005-03-27.dat\n",
      "-rw---xr--   1 andreochimal  staff  606 Nov  3 22:49 names_2006-05-02.dat\n",
      "-rw---xr--   1 andreochimal  staff  623 Nov  3 22:49 names_2006-06-21.dat\n",
      "-rw---xr--   1 andreochimal  staff  635 Nov  3 22:49 names_2006-11-30.dat\n",
      "-rw---xr--   1 andreochimal  staff  591 Nov  3 22:49 names_2007-12-04.dat\n",
      "-rw---xr--   1 andreochimal  staff  639 Nov  3 22:49 names_2008-02-16.dat\n",
      "-rw---xr--   1 andreochimal  staff  617 Nov  3 22:49 names_2009-02-21.dat\n",
      "-rw---xr--   1 andreochimal  staff  613 Nov  3 22:49 names_2009-03-12.dat\n",
      "-rw---xr--   1 andreochimal  staff  622 Nov  3 22:49 names_2009-04-20.dat\n",
      "-rw---xr--   1 andreochimal  staff  631 Nov  3 22:49 names_2010-06-20.txt\n",
      "-rw---xr--   1 andreochimal  staff  615 Nov  3 22:49 names_2012-07-10.dat\n",
      "-rw---xr--   1 andreochimal  staff  652 Nov  3 22:49 names_2012-08-11.txt\n",
      "-rw---xr--   1 andreochimal  staff  637 Nov  3 22:49 names_2012-08-31.txt\n",
      "-rw---xr--   1 andreochimal  staff  638 Nov  3 22:49 names_2013-06-11.dat\n",
      "-rw---xr--   1 andreochimal  staff  637 Nov  3 22:49 names_2013-10-31.txt\n",
      "-rw---xr--   1 andreochimal  staff  644 Nov  3 22:49 names_2014-01-19.txt\n",
      "-rw---xr--   1 andreochimal  staff  608 Nov  3 22:49 names_2016-11-29.dat\n"
     ]
    }
   ],
   "source": [
    "ls -Rla"
   ]
  },
  {
   "cell_type": "markdown",
   "metadata": {},
   "source": [
    "Copié la carpeta *CUAUHTEMOC* al directorio *Resultado*, entré a la carpeta y cambié los permisos de forma recursiva a todos los directorios y subdirectorios dentro de *CUAUHTEMOC* tal como se pidió. Al final corroboré que se cambiaran como se deseaba."
   ]
  },
  {
   "cell_type": "code",
   "execution_count": 11,
   "metadata": {},
   "outputs": [],
   "source": [
    "chmod 740 /Users/andreochimal/Desktop/Compu/Resultado/CUAUHTEMOC/sectorG/*.txt"
   ]
  },
  {
   "cell_type": "markdown",
   "metadata": {},
   "source": [
    "Cambié los permisos de todos los archivos que terminan en *.txt* dentro de *sectorG* a 740, tal como se pidió."
   ]
  },
  {
   "cell_type": "code",
   "execution_count": 13,
   "metadata": {},
   "outputs": [],
   "source": [
    "chmod 714 /Users/andreochimal/Desktop/Compu/Resultado/CUAUHTEMOC/sectorP/*.dat"
   ]
  },
  {
   "cell_type": "code",
   "execution_count": 14,
   "metadata": {},
   "outputs": [],
   "source": [
    "ls -l /Users/andreochimal/Desktop/Compu/Resultado/CUAUHTEMOC/sectorP/*.dat > permisos.dat"
   ]
  },
  {
   "cell_type": "markdown",
   "metadata": {},
   "source": [
    "Cambié los permisos de todos los archivos que terminan en *.dat* dentro de *sectorP* a 714, tal como se pidió, enlisté los archivos que terminan en *.dat* con sus respectivos permisos y redirigí el output de esto a un archivo en *Resultado* llamado *permisos.dat*."
   ]
  },
  {
   "cell_type": "code",
   "execution_count": 15,
   "metadata": {},
   "outputs": [],
   "source": [
    "chmod 700 /Users/andreochimal/Desktop/Compu/Resultado/CUAUHTEMOC/sector{O,P}/*-05-*"
   ]
  },
  {
   "cell_type": "code",
   "execution_count": 17,
   "metadata": {
    "collapsed": true,
    "jupyter": {
     "outputs_hidden": true
    }
   },
   "outputs": [
    {
     "name": "stdout",
     "output_type": "stream",
     "text": [
      "-rwx------  1 andreochimal  staff  618 Nov  3 22:49 /Users/andreochimal/Desktop/Compu/Resultado/CUAUHTEMOC/sectorO/names_2003-05-04.dat\n",
      "-rwx------  1 andreochimal  staff  627 Nov  3 22:49 /Users/andreochimal/Desktop/Compu/Resultado/CUAUHTEMOC/sectorO/names_2009-05-06.dat\n",
      "-rwx------  1 andreochimal  staff  623 Nov  3 22:49 /Users/andreochimal/Desktop/Compu/Resultado/CUAUHTEMOC/sectorP/names_2017-05-17.dat\n",
      "-rwx------  1 andreochimal  staff  621 Nov  3 22:49 /Users/andreochimal/Desktop/Compu/Resultado/CUAUHTEMOC/sectorP/names_2018-05-09.txt\n"
     ]
    }
   ],
   "source": [
    "ls -l /Users/andreochimal/Desktop/Compu/Resultado/CUAUHTEMOC/sector{O,P}/*-05-*"
   ]
  },
  {
   "cell_type": "markdown",
   "metadata": {},
   "source": [
    "Cambié los permisos de todos los archivos en los directorios *sectorO* y *sectorP* que tienen *-05-* en su nombre, lo cual indica que tienen mayo como fecha, y al final enlisté estos archivos para corroborar que el procedimiento fuera correcto."
   ]
  },
  {
   "cell_type": "markdown",
   "metadata": {},
   "source": [
    "### *find y grep*"
   ]
  },
  {
   "cell_type": "code",
   "execution_count": 193,
   "metadata": {},
   "outputs": [
    {
     "name": "stdout",
     "output_type": "stream",
     "text": [
      "    2036\n"
     ]
    }
   ],
   "source": [
    "find /Users/andreochimal/Desktop/Compu/Computacion2020-8093/Practicas/directorio -name \"*.txt\" | wc -l"
   ]
  },
  {
   "cell_type": "code",
   "execution_count": 242,
   "metadata": {},
   "outputs": [
    {
     "name": "stdout",
     "output_type": "stream",
     "text": [
      "    2122\n"
     ]
    }
   ],
   "source": [
    "find /Users/andreochimal/Desktop/Compu/Computacion2020-8093/Practicas/directorio -name \"*.dat\" | wc -l"
   ]
  },
  {
   "cell_type": "markdown",
   "metadata": {},
   "source": [
    "Hay 2036 archivos con extensión *.txt* y 2122 archivos con extensión *.dat*."
   ]
  },
  {
   "cell_type": "code",
   "execution_count": 23,
   "metadata": {},
   "outputs": [
    {
     "name": "stdout",
     "output_type": "stream",
     "text": [
      "       0\n"
     ]
    }
   ],
   "source": [
    "grep -r Andreo /Users/andreochimal/Desktop/Compu/Computacion2020-8093/Practicas/directorio | wc -l"
   ]
  },
  {
   "cell_type": "code",
   "execution_count": 33,
   "metadata": {},
   "outputs": [
    {
     "name": "stdout",
     "output_type": "stream",
     "text": [
      "       0\n"
     ]
    }
   ],
   "source": [
    "grep -r Ernesto /Users/andreochimal/Desktop/Compu/Computacion2020-8093/Practicas/directorio | wc -l"
   ]
  },
  {
   "cell_type": "code",
   "execution_count": 31,
   "metadata": {},
   "outputs": [
    {
     "name": "stdout",
     "output_type": "stream",
     "text": [
      "       0\n"
     ]
    }
   ],
   "source": [
    "grep -r Andreo /Users/andreochimal/Desktop/Compu/Computacion2020-8093/Practicas/directorio/*/*/*2002* | wc -l"
   ]
  },
  {
   "cell_type": "markdown",
   "metadata": {},
   "source": [
    "No hay archivo existente con alguno de mis dos nombres. Así, mi nombre no aparece en los 4158 archivos. Mi nombre nunca coincide con mi año de nacimiento, pues no está en ningún archivo."
   ]
  },
  {
   "cell_type": "code",
   "execution_count": 247,
   "metadata": {},
   "outputs": [
    {
     "name": "stdout",
     "output_type": "stream",
     "text": [
      "    4158\n"
     ]
    }
   ],
   "source": [
    "find /Users/andreochimal/Desktop/Compu/Computacion2020-8093/Practicas/directorio -type f | wc -l"
   ]
  },
  {
   "cell_type": "code",
   "execution_count": 246,
   "metadata": {},
   "outputs": [
    {
     "name": "stdout",
     "output_type": "stream",
     "text": [
      "     188\n"
     ]
    }
   ],
   "source": [
    "find /Users/andreochimal/Desktop/Compu/Computacion2020-8093/Practicas/directorio -type d | wc -l"
   ]
  },
  {
   "cell_type": "markdown",
   "metadata": {},
   "source": [
    "Hay 188 directorios y 4158 archivos en esos directorios."
   ]
  },
  {
   "cell_type": "code",
   "execution_count": 270,
   "metadata": {},
   "outputs": [
    {
     "name": "stdout",
     "output_type": "stream",
     "text": [
      "    4158\n"
     ]
    }
   ],
   "source": [
    "find /Users/andreochimal/Desktop/Compu/Computacion2020-8093/Practicas/directorio -type f -size -1150c | wc -l"
   ]
  },
  {
   "cell_type": "markdown",
   "metadata": {},
   "source": [
    "Todos los 4158 archivos pesan menos de 1150 bytes."
   ]
  },
  {
   "cell_type": "code",
   "execution_count": 253,
   "metadata": {},
   "outputs": [
    {
     "name": "stdout",
     "output_type": "stream",
     "text": [
      "       8\n"
     ]
    }
   ],
   "source": [
    "find  /Users/andreochimal/Desktop/Compu/Computacion2020-8093/Practicas/directorio/*/sectorS -name \"*2020*\" | wc -l"
   ]
  },
  {
   "cell_type": "markdown",
   "metadata": {},
   "source": [
    "Hay 8 archivos en *sectorS* que tienen \"2020\" en su nombre."
   ]
  }
 ],
 "metadata": {
  "kernelspec": {
   "display_name": "Bash",
   "language": "bash",
   "name": "bash"
  },
  "language_info": {
   "codemirror_mode": "shell",
   "file_extension": ".sh",
   "mimetype": "text/x-sh",
   "name": "bash"
  }
 },
 "nbformat": 4,
 "nbformat_minor": 4
}
